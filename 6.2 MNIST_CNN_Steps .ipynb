{
  "nbformat": 4,
  "nbformat_minor": 0,
  "metadata": {
    "colab": {
      "name": "MNIST_CNN_Steps.ipynb",
      "provenance": [],
      "collapsed_sections": []
    },
    "kernelspec": {
      "name": "python3",
      "display_name": "Python 3"
    },
    "accelerator": "GPU"
  },
  "cells": [
    {
      "cell_type": "code",
      "metadata": {
        "id": "jFvJZtV3XLF0",
        "colab_type": "code",
        "outputId": "7b78a3f3-e97d-4724-9fe3-ec8f31ff3d63",
        "colab": {
          "base_uri": "https://localhost:8080/",
          "height": 350
        }
      },
      "source": [
        "# 使用1.x版本的tensorflow\n",
        "%tensorflow_version 1.x\n",
        "\n",
        "import numpy as np\n",
        "from keras.models import Sequential\n",
        "from keras.layers import Dense, Dropout, Flatten, Conv2D, MaxPooling2D\n",
        "from keras.datasets import mnist\n",
        "from keras.utils import np_utils\n",
        "import matplotlib.pyplot as plt\n",
        "\n",
        "# 讀取mnist資料 \n",
        "# x_train為60000筆訓練資料,每一筆資料為28x28的灰階手寫數字\n",
        "# y_train為60000筆資料的正確數字(0,1,2,3,4,5,6,7,8,9)\n",
        "# x_test為10000筆訓練資料,每一筆資料為28x28的灰階手寫數字\n",
        "# y_test為10000筆資料的正確數字(0,1,2,3,4,5,6,7,8,9)\n",
        "(x_train, y_train), (x_test, y_test) = mnist.load_data()\n",
        "print(\"x_train.shape={}, y_train.shape={}\".format(x_train.shape, y_train.shape))\n",
        "print(\"x_test.shape={}, y_test.shape={}\".format(x_test.shape, y_test.shape))\n",
        "\n",
        "# 顯示手寫資料\n",
        "from matplotlib.pyplot import imshow\n",
        "imshow(x_train[0])\n",
        "# print(x_train[0])\n",
        "print(y_train[0])"
      ],
      "execution_count": 1,
      "outputs": [
        {
          "output_type": "stream",
          "text": [
            "TensorFlow 1.x selected.\n"
          ],
          "name": "stdout"
        },
        {
          "output_type": "stream",
          "text": [
            "Using TensorFlow backend.\n"
          ],
          "name": "stderr"
        },
        {
          "output_type": "stream",
          "text": [
            "x_train.shape=(60000, 28, 28), y_train.shape=(60000,)\n",
            "x_test.shape=(10000, 28, 28), y_test.shape=(10000,)\n",
            "5\n"
          ],
          "name": "stdout"
        },
        {
          "output_type": "display_data",
          "data": {
            "image/png": "[encoded data removed]",
            "text/plain": [
              "<Figure size 432x288 with 1 Axes>"
            ]
          },
          "metadata": {
            "tags": [],
            "needs_background": "light"
          }
        }
      ]
    },
    {
      "cell_type": "code",
      "metadata": {
        "id": "vQgS3Y29_JtR",
        "colab_type": "code",
        "colab": {
          "base_uri": "https://localhost:8080/",
          "height": 85
        },
        "outputId": "314bf3e3-8142-4ffe-867e-90783de60ccf"
      },
      "source": [
        "# 接著我們必須將x_train及x_test dataset由原本三維轉為四維矩陣以符合CNN的需求\n",
        "# 這是因為RGB圖片的格式為為width, height, channels，加上ID數維度為4。\n",
        "# MNIST圖片為灰階因此其channel為1，轉換後的shape為(ID, width, height, channel)\n",
        "\n",
        "x_train = x_train.reshape(x_train.shape[0], 28, 28, 1).astype('float32')\n",
        "x_test = x_test.reshape(x_test.shape[0], 28, 28, 1).astype('float32')\n",
        "print(\"x_train.shape={}\".format(x_train.shape))\n",
        "print(\"x_test.shape={}\".format(x_test.shape))\n",
        "\n",
        "# 接下來將dataset的特徵值進行標準化，方法是除以255（因為圖像的像素點介於0~255之間）\n",
        "# 可讓所有的特徵值介於0與1之間。除了可提昇模型預測的準確度，梯度運算時也能更快收斂。\n",
        "x_train = x_train / 255\n",
        "x_test = x_test / 255\n",
        "\n",
        "# 手寫數字結果如果採用原來的1, 2, 3....在演算法中，會以為2是1的兩倍大，3是1的三倍大，其實並沒有這個意義\n",
        "# 因此會採用Onehot encoding，將彼此間不相關且非有序的categories轉換為連續性且是有序數值。\n",
        "# 舉例來說，原本y_train[0]=5，經過onehot encoding會變成[0,0,0,0,0,1,0,0,0,0]\n",
        "print(y_train[0])\n",
        "y_train = np_utils.to_categorical(y_train)\n",
        "print(y_train[0])\n",
        "y_test_categories = y_test\n",
        "y_test = np_utils.to_categorical(y_test)"
      ],
      "execution_count": 2,
      "outputs": [
        {
          "output_type": "stream",
          "text": [
            "x_train.shape=(60000, 28, 28, 1)\n",
            "x_test.shape=(10000, 28, 28, 1)\n",
            "5\n",
            "[0. 0. 0. 0. 0. 1. 0. 0. 0. 0.]\n"
          ],
          "name": "stdout"
        }
      ]
    },
    {
      "cell_type": "markdown",
      "metadata": {
        "id": "gLsEHI5S82WG",
        "colab_type": "text"
      },
      "source": [
        "![alt text](https://4.bp.blogspot.com/-lo4ANmafiQM/WVpEeo68VPI/AAAAAAAAWxE/gVT33Q_dxqMxqZJfnbxS-fxl7ZdsntZcwCEwYBhgL/s1600/3812_1.png)"
      ]
    },
    {
      "cell_type": "code",
      "metadata": {
        "id": "oAlXfQJGA6ei",
        "colab_type": "code",
        "colab": {
          "base_uri": "https://localhost:8080/",
          "height": 496
        },
        "outputId": "b42d2b36-fb26-44e6-a42c-62ea45dc2f28"
      },
      "source": [
        "# CNN模型建置\n",
        "# filter代表過濾器的數量, kernel_size代表filter的大小\n",
        "# padding: filter遇到邊緣的處理模式('same'為補0, 'valid'為忽略)\n",
        "model = Sequential()\n",
        "model.add(Conv2D(filters=16, kernel_size=(5, 5), padding='same', input_shape=(28, 28, 1), activation='relu'))\n",
        "model.add(MaxPooling2D(pool_size=(2, 2)))\n",
        "model.add(Conv2D(filters=36, kernel_size=(5, 5), padding='same', activation='relu'))\n",
        "model.add(MaxPooling2D(pool_size=(2, 2)))\n",
        "model.add(Dropout(0.25))\n",
        "model.add(Flatten())\n",
        "model.add(Dense(10, activation='softmax'))\n",
        "model.summary()     \n"
      ],
      "execution_count": 3,
      "outputs": [
        {
          "output_type": "stream",
          "text": [
            "WARNING:tensorflow:From /tensorflow-1.15.2/python3.6/tensorflow_core/python/ops/resource_variable_ops.py:1630: calling BaseResourceVariable.__init__ (from tensorflow.python.ops.resource_variable_ops) with constraint is deprecated and will be removed in a future version.\n",
            "Instructions for updating:\n",
            "If using Keras pass *_constraint arguments to layers.\n",
            "WARNING:tensorflow:From /usr/local/lib/python3.6/dist-packages/keras/backend/tensorflow_backend.py:4070: The name tf.nn.max_pool is deprecated. Please use tf.nn.max_pool2d instead.\n",
            "\n",
            "Model: \"sequential_1\"\n",
            "_________________________________________________________________\n",
            "Layer (type)                 Output Shape              Param #   \n",
            "=================================================================\n",
            "conv2d_1 (Conv2D)            (None, 28, 28, 16)        416       \n",
            "_________________________________________________________________\n",
            "max_pooling2d_1 (MaxPooling2 (None, 14, 14, 16)        0         \n",
            "_________________________________________________________________\n",
            "conv2d_2 (Conv2D)            (None, 14, 14, 36)        14436     \n",
            "_________________________________________________________________\n",
            "max_pooling2d_2 (MaxPooling2 (None, 7, 7, 36)          0         \n",
            "_________________________________________________________________\n",
            "dropout_1 (Dropout)          (None, 7, 7, 36)          0         \n",
            "_________________________________________________________________\n",
            "flatten_1 (Flatten)          (None, 1764)              0         \n",
            "_________________________________________________________________\n",
            "dense_1 (Dense)              (None, 10)                17650     \n",
            "=================================================================\n",
            "Total params: 32,502\n",
            "Trainable params: 32,502\n",
            "Non-trainable params: 0\n",
            "_________________________________________________________________\n"
          ],
          "name": "stdout"
        }
      ]
    },
    {
      "cell_type": "markdown",
      "metadata": {
        "id": "6S_beMBxQNeS",
        "colab_type": "text"
      },
      "source": [
        "batch size的考量\n",
        "\n",
        "以下是MNIST在LeNet上的測試數據，採用Theano 框架![alt text](https://pic3.zhimg.com/d6fb7abbaeef80e739d824582a0fa384_r.jpg)\n",
        "\n",
        "\n",
        "1.   Batch_Size 太小，算法在 200 epoches 內不收斂。\n",
        "2.   隨著 Batch_Size 增大，處理相同數據量的速度越快。\n",
        "3.   隨著 Batch_Size 增大，達到相同精度所需要的 epoch 數量越來越多。\n",
        "4.   由於上述兩種因素的矛盾， Batch_Size 增大到某個時候，達到時間上的最優。\n",
        "5.   由於最終收斂精度會陷入不同的局部極值，因此 Batch_Size 增大到某些時候，達到最終收斂精上的最優。\n",
        "\n",
        "\n",
        "\n",
        "\n"
      ]
    },
    {
      "cell_type": "code",
      "metadata": {
        "id": "cOs_CdCmDimj",
        "colab_type": "code",
        "colab": {
          "base_uri": "https://localhost:8080/",
          "height": 442
        },
        "outputId": "f2f625bf-afee-434e-d2e2-bcf500ca0787"
      },
      "source": [
        "# 模型編譯\n",
        "# loss:損失函數 optimizer:學習函數(梯度縮減的方式) metrics:評估模型好壞的方式(accuracy=正確率)\n",
        "model.compile(loss='categorical_crossentropy', optimizer='adam', metrics=['accuracy'])\n",
        "\n",
        "# 模型訓練\n",
        "# x:訓練資料 y:訓練資料的答案 validation_split:訓練資料的多少百分比要拿來驗證 validation_data:驗證資料 \n",
        "# epochs:模型訓練次數 \n",
        "train_history=model.fit(x=x_train, y=y_train, validation_data=(x_test, y_test), validation_split=0.2, epochs=10, batch_size=300, verbose=2)\n",
        "\n",
        "# 模型評估\n",
        "scores = model.evaluate(x_test, y_test)\n",
        "print(\"模型正確率為：{}\".format(scores[1]))\n"
      ],
      "execution_count": 4,
      "outputs": [
        {
          "output_type": "stream",
          "text": [
            "WARNING:tensorflow:From /usr/local/lib/python3.6/dist-packages/keras/backend/tensorflow_backend.py:422: The name tf.global_variables is deprecated. Please use tf.compat.v1.global_variables instead.\n",
            "\n",
            "Train on 60000 samples, validate on 10000 samples\n",
            "Epoch 1/10\n",
            " - 8s - loss: 0.4479 - accuracy: 0.8688 - val_loss: 0.1178 - val_accuracy: 0.9661\n",
            "Epoch 2/10\n",
            " - 1s - loss: 0.1143 - accuracy: 0.9652 - val_loss: 0.0678 - val_accuracy: 0.9799\n",
            "Epoch 3/10\n",
            " - 1s - loss: 0.0809 - accuracy: 0.9758 - val_loss: 0.0487 - val_accuracy: 0.9852\n",
            "Epoch 4/10\n",
            " - 1s - loss: 0.0658 - accuracy: 0.9796 - val_loss: 0.0407 - val_accuracy: 0.9868\n",
            "Epoch 5/10\n",
            " - 1s - loss: 0.0553 - accuracy: 0.9836 - val_loss: 0.0371 - val_accuracy: 0.9880\n",
            "Epoch 6/10\n",
            " - 1s - loss: 0.0478 - accuracy: 0.9855 - val_loss: 0.0327 - val_accuracy: 0.9896\n",
            "Epoch 7/10\n",
            " - 1s - loss: 0.0432 - accuracy: 0.9865 - val_loss: 0.0337 - val_accuracy: 0.9888\n",
            "Epoch 8/10\n",
            " - 1s - loss: 0.0397 - accuracy: 0.9878 - val_loss: 0.0332 - val_accuracy: 0.9891\n",
            "Epoch 9/10\n",
            " - 1s - loss: 0.0370 - accuracy: 0.9884 - val_loss: 0.0284 - val_accuracy: 0.9911\n",
            "Epoch 10/10\n",
            " - 1s - loss: 0.0332 - accuracy: 0.9892 - val_loss: 0.0342 - val_accuracy: 0.9898\n",
            "10000/10000 [==============================] - 1s 60us/step\n",
            "模型正確率為：0.989799976348877\n"
          ],
          "name": "stdout"
        }
      ]
    },
    {
      "cell_type": "code",
      "metadata": {
        "id": "0F92c5SBDk9g",
        "colab_type": "code",
        "colab": {
          "base_uri": "https://localhost:8080/",
          "height": 573
        },
        "outputId": "7fbc9538-7601-4c13-ff86-46b9d5dcd0e6"
      },
      "source": [
        "def show_train_history(train_history, train, validation):\n",
        "    plt.plot(train_history.history[train])\n",
        "    plt.plot(train_history.history[validation])\n",
        "    plt.title('Train History')\n",
        "    plt.ylabel('Train')\n",
        "    plt.xlabel('Epoch')\n",
        "    plt.legend(['train', 'validation'], loc='center right')\n",
        "    plt.show()\n",
        "\n",
        "show_train_history(train_history, 'accuracy', 'val_accuracy')\n",
        "show_train_history(train_history, 'loss', 'val_loss')\n"
      ],
      "execution_count": 5,
      "outputs": [
        {
          "output_type": "display_data",
          "data": {
            "image/png": "[encoded data removed]",
            "text/plain": [
              "<Figure size 432x288 with 1 Axes>"
            ]
          },
          "metadata": {
            "tags": [],
            "needs_background": "light"
          }
        },
        {
          "output_type": "display_data",
          "data": {
            "image/png": "[encoded data removed]",
            "text/plain": [
              "<Figure size 432x288 with 1 Axes>"
            ]
          },
          "metadata": {
            "tags": [],
            "needs_background": "light"
          }
        }
      ]
    },
    {
      "cell_type": "code",
      "metadata": {
        "id": "xeSB3mn_Dm3_",
        "colab_type": "code",
        "colab": {
          "base_uri": "https://localhost:8080/",
          "height": 407
        },
        "outputId": "0828a44c-6706-4b9f-e077-79f7d18b409b"
      },
      "source": [
        "# Confusion Matrix混淆矩陣\n",
        "import pandas as pd\n",
        "prediction = model.predict_classes(x_test)\n",
        "print(y_test.shape)\n",
        "pd.crosstab(y_test_categories, prediction, rownames=['label'], colnames=['predict'])"
      ],
      "execution_count": 6,
      "outputs": [
        {
          "output_type": "stream",
          "text": [
            "(10000, 10)\n"
          ],
          "name": "stdout"
        },
        {
          "output_type": "execute_result",
          "data": {
            "text/html": [
              "<div>\n",
              "<style scoped>\n",
              "    .dataframe tbody tr th:only-of-type {\n",
              "        vertical-align: middle;\n",
              "    }\n",
              "\n",
              "    .dataframe tbody tr th {\n",
              "        vertical-align: top;\n",
              "    }\n",
              "\n",
              "    .dataframe thead th {\n",
              "        text-align: right;\n",
              "    }\n",
              "</style>\n",
              "<table border=\"1\" class=\"dataframe\">\n",
              "  <thead>\n",
              "    <tr style=\"text-align: right;\">\n",
              "      <th>predict</th>\n",
              "      <th>0</th>\n",
              "      <th>1</th>\n",
              "      <th>2</th>\n",
              "      <th>3</th>\n",
              "      <th>4</th>\n",
              "      <th>5</th>\n",
              "      <th>6</th>\n",
              "      <th>7</th>\n",
              "      <th>8</th>\n",
              "      <th>9</th>\n",
              "    </tr>\n",
              "    <tr>\n",
              "      <th>label</th>\n",
              "      <th></th>\n",
              "      <th></th>\n",
              "      <th></th>\n",
              "      <th></th>\n",
              "      <th></th>\n",
              "      <th></th>\n",
              "      <th></th>\n",
              "      <th></th>\n",
              "      <th></th>\n",
              "      <th></th>\n",
              "    </tr>\n",
              "  </thead>\n",
              "  <tbody>\n",
              "    <tr>\n",
              "      <th>0</th>\n",
              "      <td>978</td>\n",
              "      <td>0</td>\n",
              "      <td>0</td>\n",
              "      <td>0</td>\n",
              "      <td>0</td>\n",
              "      <td>0</td>\n",
              "      <td>0</td>\n",
              "      <td>0</td>\n",
              "      <td>1</td>\n",
              "      <td>1</td>\n",
              "    </tr>\n",
              "    <tr>\n",
              "      <th>1</th>\n",
              "      <td>0</td>\n",
              "      <td>1126</td>\n",
              "      <td>3</td>\n",
              "      <td>1</td>\n",
              "      <td>0</td>\n",
              "      <td>0</td>\n",
              "      <td>0</td>\n",
              "      <td>1</td>\n",
              "      <td>4</td>\n",
              "      <td>0</td>\n",
              "    </tr>\n",
              "    <tr>\n",
              "      <th>2</th>\n",
              "      <td>0</td>\n",
              "      <td>0</td>\n",
              "      <td>1029</td>\n",
              "      <td>1</td>\n",
              "      <td>0</td>\n",
              "      <td>0</td>\n",
              "      <td>0</td>\n",
              "      <td>1</td>\n",
              "      <td>1</td>\n",
              "      <td>0</td>\n",
              "    </tr>\n",
              "    <tr>\n",
              "      <th>3</th>\n",
              "      <td>0</td>\n",
              "      <td>0</td>\n",
              "      <td>0</td>\n",
              "      <td>1008</td>\n",
              "      <td>0</td>\n",
              "      <td>1</td>\n",
              "      <td>0</td>\n",
              "      <td>0</td>\n",
              "      <td>1</td>\n",
              "      <td>0</td>\n",
              "    </tr>\n",
              "    <tr>\n",
              "      <th>4</th>\n",
              "      <td>0</td>\n",
              "      <td>0</td>\n",
              "      <td>0</td>\n",
              "      <td>0</td>\n",
              "      <td>967</td>\n",
              "      <td>0</td>\n",
              "      <td>0</td>\n",
              "      <td>1</td>\n",
              "      <td>3</td>\n",
              "      <td>11</td>\n",
              "    </tr>\n",
              "    <tr>\n",
              "      <th>5</th>\n",
              "      <td>2</td>\n",
              "      <td>0</td>\n",
              "      <td>1</td>\n",
              "      <td>6</td>\n",
              "      <td>0</td>\n",
              "      <td>880</td>\n",
              "      <td>1</td>\n",
              "      <td>0</td>\n",
              "      <td>0</td>\n",
              "      <td>2</td>\n",
              "    </tr>\n",
              "    <tr>\n",
              "      <th>6</th>\n",
              "      <td>7</td>\n",
              "      <td>2</td>\n",
              "      <td>1</td>\n",
              "      <td>1</td>\n",
              "      <td>1</td>\n",
              "      <td>7</td>\n",
              "      <td>935</td>\n",
              "      <td>0</td>\n",
              "      <td>4</td>\n",
              "      <td>0</td>\n",
              "    </tr>\n",
              "    <tr>\n",
              "      <th>7</th>\n",
              "      <td>0</td>\n",
              "      <td>1</td>\n",
              "      <td>9</td>\n",
              "      <td>3</td>\n",
              "      <td>0</td>\n",
              "      <td>0</td>\n",
              "      <td>0</td>\n",
              "      <td>1007</td>\n",
              "      <td>1</td>\n",
              "      <td>7</td>\n",
              "    </tr>\n",
              "    <tr>\n",
              "      <th>8</th>\n",
              "      <td>3</td>\n",
              "      <td>0</td>\n",
              "      <td>2</td>\n",
              "      <td>0</td>\n",
              "      <td>0</td>\n",
              "      <td>1</td>\n",
              "      <td>0</td>\n",
              "      <td>2</td>\n",
              "      <td>963</td>\n",
              "      <td>3</td>\n",
              "    </tr>\n",
              "    <tr>\n",
              "      <th>9</th>\n",
              "      <td>0</td>\n",
              "      <td>0</td>\n",
              "      <td>0</td>\n",
              "      <td>1</td>\n",
              "      <td>1</td>\n",
              "      <td>2</td>\n",
              "      <td>0</td>\n",
              "      <td>0</td>\n",
              "      <td>0</td>\n",
              "      <td>1005</td>\n",
              "    </tr>\n",
              "  </tbody>\n",
              "</table>\n",
              "</div>"
            ],
            "text/plain": [
              "predict    0     1     2     3    4    5    6     7    8     9\n",
              "label                                                         \n",
              "0        978     0     0     0    0    0    0     0    1     1\n",
              "1          0  1126     3     1    0    0    0     1    4     0\n",
              "2          0     0  1029     1    0    0    0     1    1     0\n",
              "3          0     0     0  1008    0    1    0     0    1     0\n",
              "4          0     0     0     0  967    0    0     1    3    11\n",
              "5          2     0     1     6    0  880    1     0    0     2\n",
              "6          7     2     1     1    1    7  935     0    4     0\n",
              "7          0     1     9     3    0    0    0  1007    1     7\n",
              "8          3     0     2     0    0    1    0     2  963     3\n",
              "9          0     0     0     1    1    2    0     0    0  1005"
            ]
          },
          "metadata": {
            "tags": []
          },
          "execution_count": 6
        }
      ]
    },
    {
      "cell_type": "markdown",
      "metadata": {
        "id": "add1sLRzy-gs",
        "colab_type": "text"
      },
      "source": [
        "# New Section"
      ]
    }
  ]
}