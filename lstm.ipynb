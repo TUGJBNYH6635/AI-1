{
  "nbformat": 4,
  "nbformat_minor": 0,
  "metadata": {
    "kernelspec": {
      "display_name": "Python [conda env:.conda-pytorch13] *",
      "language": "python",
      "name": "conda-env-.conda-pytorch13-py"
    },
    "language_info": {
      "codemirror_mode": {
        "name": "ipython",
        "version": 3
      },
      "file_extension": ".py",
      "mimetype": "text/x-python",
      "name": "python",
      "nbconvert_exporter": "python",
      "pygments_lexer": "ipython3",
      "version": "3.7.5"
    },
    "colab": {
      "name": "lstm.ipynb",
      "provenance": []
    }
  },
  "cells": [
    {
      "cell_type": "code",
      "metadata": {
        "id": "KD4DZf_CqGOV",
        "colab_type": "code",
        "colab": {}
      },
      "source": [
        "import torch\n",
        "import torch.nn as nn\n"
      ],
      "execution_count": 0,
      "outputs": []
    },
    {
      "cell_type": "code",
      "metadata": {
        "id": "x1tBYy2bqGOi",
        "colab_type": "code",
        "colab": {}
      },
      "source": [
        "input_dim = 2\n",
        "hidden_dim = 3\n",
        "n_layers = 4\n",
        "\n",
        "lstm_layer = nn.LSTM(input_dim, hidden_dim, n_layers, batch_first=True)\n"
      ],
      "execution_count": 0,
      "outputs": []
    },
    {
      "cell_type": "code",
      "metadata": {
        "id": "e6imuTUlqGOq",
        "colab_type": "code",
        "outputId": "50d08853-703d-4ea6-b088-4e893cf57c10",
        "colab": {
          "base_uri": "https://localhost:8080/",
          "height": 51
        }
      },
      "source": [
        "batch_size = 1\n",
        "seq_len = 5\n",
        "\n",
        "inp = torch.randn(batch_size, seq_len, input_dim)\n",
        "hidden_state = torch.randn(n_layers, batch_size, hidden_dim)\n",
        "cell_state = torch.randn(n_layers, batch_size, hidden_dim)\n",
        "hidden = (hidden_state, cell_state)\n",
        "print('input shape', inp.shape)\n",
        "print('hidden shape', hidden[0].shape, hidden[1].shape)\n"
      ],
      "execution_count": 0,
      "outputs": [
        {
          "output_type": "stream",
          "text": [
            "input shape torch.Size([1, 5, 2])\n",
            "hidden shape torch.Size([4, 1, 3]) torch.Size([4, 1, 3])\n"
          ],
          "name": "stdout"
        }
      ]
    },
    {
      "cell_type": "code",
      "metadata": {
        "id": "rxD_-ekNqGO2",
        "colab_type": "code",
        "outputId": "6ca78899-9eb5-4756-af7a-e8fb729f4d37",
        "colab": {
          "base_uri": "https://localhost:8080/",
          "height": 51
        }
      },
      "source": [
        "out, hidden = lstm_layer(inp, hidden)\n",
        "print(\"out shape\", out.shape)\n",
        "print('hidden', hidden[0].shape, hidden[1].shape)\n"
      ],
      "execution_count": 0,
      "outputs": [
        {
          "output_type": "stream",
          "text": [
            "out shape torch.Size([1, 5, 3])\n",
            "hidden torch.Size([4, 1, 3]) torch.Size([4, 1, 3])\n"
          ],
          "name": "stdout"
        }
      ]
    },
    {
      "cell_type": "code",
      "metadata": {
        "id": "8s9j7ZNHqGO6",
        "colab_type": "code",
        "outputId": "b8fd4b8c-a396-422b-ddff-005667447303",
        "colab": {
          "base_uri": "https://localhost:8080/",
          "height": 101
        }
      },
      "source": [
        "out.squeeze()"
      ],
      "execution_count": 0,
      "outputs": [
        {
          "output_type": "execute_result",
          "data": {
            "text/plain": [
              "tensor([[ 0.1741, -0.2980, -0.4612],\n",
              "        [ 0.0680, -0.4004, -0.3388],\n",
              "        [ 0.0724, -0.4079, -0.2897],\n",
              "        [ 0.0834, -0.4065, -0.2457],\n",
              "        [ 0.0922, -0.4013, -0.2147]], grad_fn=<SqueezeBackward0>)"
            ]
          },
          "metadata": {
            "tags": []
          },
          "execution_count": 5
        }
      ]
    },
    {
      "cell_type": "code",
      "metadata": {
        "id": "ELHeouyqqGO-",
        "colab_type": "code",
        "outputId": "83ddbe09-9041-485e-c81b-d195f8a4a70e",
        "colab": {
          "base_uri": "https://localhost:8080/",
          "height": 34
        }
      },
      "source": [
        "out.squeeze()[-1,:]"
      ],
      "execution_count": 0,
      "outputs": [
        {
          "output_type": "execute_result",
          "data": {
            "text/plain": [
              "tensor([ 0.0922, -0.4013, -0.2147], grad_fn=<SliceBackward>)"
            ]
          },
          "metadata": {
            "tags": []
          },
          "execution_count": 6
        }
      ]
    }
  ]
}