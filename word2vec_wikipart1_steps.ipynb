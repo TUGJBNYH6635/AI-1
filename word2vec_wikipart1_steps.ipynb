{
  "nbformat": 4,
  "nbformat_minor": 0,
  "metadata": {
    "colab": {
      "name": "word2vec_wikipart1_steps.ipynb",
      "provenance": []
    },
    "kernelspec": {
      "name": "python3",
      "display_name": "Python 3"
    },
    "accelerator": "GPU"
  },
  "cells": [
    {
      "cell_type": "markdown",
      "metadata": {
        "id": "J9ZqJ7FzzvLB",
        "colab_type": "text"
      },
      "source": [
        "# 利用Wikipedia維基百科進行word2vec訓練\n",
        "Wikimedia Downloads (https://dumps.wikimedia.org/)\n",
        "\n",
        "以2020/03/01為例 (https://dumps.wikimedia.org/zhwiki/20200301/)\n",
        "\n",
        "因為wikipedia容量約2G，無法在12小時內完成，因此只下載第一部分的內容\n",
        "\n",
        "(https://dumps.wikimedia.org/zhwiki/20200301/zhwiki-20200301-pages-articles-multistream1.xml-p1p162886.bz2)\n"
      ]
    },
    {
      "cell_type": "code",
      "metadata": {
        "id": "g7NAy43rsKnI",
        "colab_type": "code",
        "colab": {
          "base_uri": "https://localhost:8080/",
          "height": 202
        },
        "outputId": "d935e329-8c30-4280-914a-c5ec2f40e1ec"
      },
      "source": [
        "!wget https://dumps.wikimedia.org/zhwiki/20200301/zhwiki-20200301-pages-articles-multistream1.xml-p1p162886.bz2"
      ],
      "execution_count": 1,
      "outputs": [
        {
          "output_type": "stream",
          "text": [
            "--2020-04-17 10:34:06--  https://dumps.wikimedia.org/zhwiki/20200301/zhwiki-20200301-pages-articles-multistream1.xml-p1p162886.bz2\n",
            "Resolving dumps.wikimedia.org (dumps.wikimedia.org)... 208.80.154.7, 2620:0:861:1:208:80:154:7\n",
            "Connecting to dumps.wikimedia.org (dumps.wikimedia.org)|208.80.154.7|:443... connected.\n",
            "HTTP request sent, awaiting response... 200 OK\n",
            "Length: 172586252 (165M) [application/octet-stream]\n",
            "Saving to: ‘zhwiki-20200301-pages-articles-multistream1.xml-p1p162886.bz2’\n",
            "\n",
            "zhwiki-20200301-pag 100%[===================>] 164.59M  4.85MB/s    in 34s     \n",
            "\n",
            "2020-04-17 10:34:41 (4.79 MB/s) - ‘zhwiki-20200301-pages-articles-multistream1.xml-p1p162886.bz2’ saved [172586252/172586252]\n",
            "\n"
          ],
          "name": "stdout"
        }
      ]
    },
    {
      "cell_type": "markdown",
      "metadata": {
        "id": "ubHcQkPI1nL3",
        "colab_type": "text"
      },
      "source": [
        "## Gensim \n",
        "Gensim是用來建立文字關係模型的python模組\n",
        "\n",
        "(https://radimrehurek.com/gensim/models/word2vec.html)\n"
      ]
    },
    {
      "cell_type": "code",
      "metadata": {
        "id": "XbdWSa9ytCgt",
        "colab_type": "code",
        "colab": {}
      },
      "source": [
        "from gensim.corpora import WikiCorpus\n",
        "\n",
        "wiki_corpus = WikiCorpus('zhwiki-20200301-pages-articles-multistream1.xml-p1p162886.bz2', dictionary={})\n"
      ],
      "execution_count": 0,
      "outputs": []
    },
    {
      "cell_type": "markdown",
      "metadata": {
        "id": "j8cmoLkx2IY-",
        "colab_type": "text"
      },
      "source": [
        "列出資料前10行"
      ]
    },
    {
      "cell_type": "code",
      "metadata": {
        "id": "ifUIySuKtLwl",
        "colab_type": "code",
        "colab": {
          "base_uri": "https://localhost:8080/",
          "height": 185
        },
        "outputId": "14e3b5ca-7220-4993-a0de-5f15da9b15f2"
      },
      "source": [
        "next(iter(wiki_corpus.get_texts()))[:10]"
      ],
      "execution_count": 3,
      "outputs": [
        {
          "output_type": "execute_result",
          "data": {
            "text/plain": [
              "['歐幾里得',\n",
              " '西元前三世紀的古希臘數學家',\n",
              " '現在被認為是幾何之父',\n",
              " '此畫為拉斐爾的作品',\n",
              " '雅典學院',\n",
              " '数学',\n",
              " '是利用符号语言研究數量',\n",
              " '结构',\n",
              " '变化以及空间等概念的一門学科',\n",
              " '从某种角度看屬於形式科學的一種']"
            ]
          },
          "metadata": {
            "tags": []
          },
          "execution_count": 3
        }
      ]
    },
    {
      "cell_type": "markdown",
      "metadata": {
        "id": "kWTv9oXM2fft",
        "colab_type": "text"
      },
      "source": [
        "將維基百科的資料每一句話改成用空格隔開，並存入wiki_text.txt"
      ]
    },
    {
      "cell_type": "code",
      "metadata": {
        "id": "SHVBAZpytRuN",
        "colab_type": "code",
        "colab": {
          "base_uri": "https://localhost:8080/",
          "height": 67
        },
        "outputId": "4c698fcf-b972-4de8-c6b1-3c298234a6fb"
      },
      "source": [
        "text_num = 0\n",
        "\n",
        "with open('wiki_text.txt', 'w', encoding='utf-8') as f:\n",
        "    for text in wiki_corpus.get_texts():\n",
        "        f.write(' '.join(text)+'\\n')\n",
        "        text_num += 1\n",
        "        if text_num % 10000 == 0:\n",
        "            print('{} articles processed.'.format(text_num))\n",
        "\n",
        "    print('{} articles processed.'.format(text_num))"
      ],
      "execution_count": 4,
      "outputs": [
        {
          "output_type": "stream",
          "text": [
            "10000 articles processed.\n",
            "20000 articles processed.\n",
            "27590 articles processed.\n"
          ],
          "name": "stdout"
        }
      ]
    },
    {
      "cell_type": "markdown",
      "metadata": {
        "id": "NT1SW4_Q20Ta",
        "colab_type": "text"
      },
      "source": [
        "## 安裝Opencc 開放簡繁轉換 \n",
        "\n",
        "(https://github.com/BYVoid/OpenCC)"
      ]
    },
    {
      "cell_type": "code",
      "metadata": {
        "id": "vnE0wlxlthKF",
        "colab_type": "code",
        "colab": {
          "base_uri": "https://localhost:8080/",
          "height": 205
        },
        "outputId": "1041de51-5376-4dab-d18e-bf38ebc9673a"
      },
      "source": [
        "!pip install opencc-python-reimplemented"
      ],
      "execution_count": 5,
      "outputs": [
        {
          "output_type": "stream",
          "text": [
            "Collecting opencc-python-reimplemented\n",
            "\u001b[?25l  Downloading https://files.pythonhosted.org/packages/53/0c/c499c86a719c925a08586085a56f92f3235c03ee8b4db2e59c1e9aab3f55/opencc-python-reimplemented-0.1.5.tar.gz (482kB)\n",
            "\r\u001b[K     |▊                               | 10kB 20.6MB/s eta 0:00:01\r\u001b[K     |█▍                              | 20kB 6.3MB/s eta 0:00:01\r\u001b[K     |██                              | 30kB 8.8MB/s eta 0:00:01\r\u001b[K     |██▊                             | 40kB 11.1MB/s eta 0:00:01\r\u001b[K     |███▍                            | 51kB 7.3MB/s eta 0:00:01\r\u001b[K     |████                            | 61kB 8.5MB/s eta 0:00:01\r\u001b[K     |████▊                           | 71kB 9.5MB/s eta 0:00:01\r\u001b[K     |█████▍                          | 81kB 10.6MB/s eta 0:00:01\r\u001b[K     |██████                          | 92kB 8.1MB/s eta 0:00:01\r\u001b[K     |██████▉                         | 102kB 8.7MB/s eta 0:00:01\r\u001b[K     |███████▌                        | 112kB 8.7MB/s eta 0:00:01\r\u001b[K     |████████▏                       | 122kB 8.7MB/s eta 0:00:01\r\u001b[K     |████████▉                       | 133kB 8.7MB/s eta 0:00:01\r\u001b[K     |█████████▌                      | 143kB 8.7MB/s eta 0:00:01\r\u001b[K     |██████████▏                     | 153kB 8.7MB/s eta 0:00:01\r\u001b[K     |██████████▉                     | 163kB 8.7MB/s eta 0:00:01\r\u001b[K     |███████████▌                    | 174kB 8.7MB/s eta 0:00:01\r\u001b[K     |████████████▏                   | 184kB 8.7MB/s eta 0:00:01\r\u001b[K     |█████████████                   | 194kB 8.7MB/s eta 0:00:01\r\u001b[K     |█████████████▋                  | 204kB 8.7MB/s eta 0:00:01\r\u001b[K     |██████████████▎                 | 215kB 8.7MB/s eta 0:00:01\r\u001b[K     |███████████████                 | 225kB 8.7MB/s eta 0:00:01\r\u001b[K     |███████████████▋                | 235kB 8.7MB/s eta 0:00:01\r\u001b[K     |████████████████▎               | 245kB 8.7MB/s eta 0:00:01\r\u001b[K     |█████████████████               | 256kB 8.7MB/s eta 0:00:01\r\u001b[K     |█████████████████▋              | 266kB 8.7MB/s eta 0:00:01\r\u001b[K     |██████████████████▎             | 276kB 8.7MB/s eta 0:00:01\r\u001b[K     |███████████████████             | 286kB 8.7MB/s eta 0:00:01\r\u001b[K     |███████████████████▊            | 296kB 8.7MB/s eta 0:00:01\r\u001b[K     |████████████████████▍           | 307kB 8.7MB/s eta 0:00:01\r\u001b[K     |█████████████████████           | 317kB 8.7MB/s eta 0:00:01\r\u001b[K     |█████████████████████▊          | 327kB 8.7MB/s eta 0:00:01\r\u001b[K     |██████████████████████▍         | 337kB 8.7MB/s eta 0:00:01\r\u001b[K     |███████████████████████         | 348kB 8.7MB/s eta 0:00:01\r\u001b[K     |███████████████████████▊        | 358kB 8.7MB/s eta 0:00:01\r\u001b[K     |████████████████████████▍       | 368kB 8.7MB/s eta 0:00:01\r\u001b[K     |█████████████████████████       | 378kB 8.7MB/s eta 0:00:01\r\u001b[K     |█████████████████████████▉      | 389kB 8.7MB/s eta 0:00:01\r\u001b[K     |██████████████████████████▌     | 399kB 8.7MB/s eta 0:00:01\r\u001b[K     |███████████████████████████▏    | 409kB 8.7MB/s eta 0:00:01\r\u001b[K     |███████████████████████████▉    | 419kB 8.7MB/s eta 0:00:01\r\u001b[K     |████████████████████████████▌   | 430kB 8.7MB/s eta 0:00:01\r\u001b[K     |█████████████████████████████▏  | 440kB 8.7MB/s eta 0:00:01\r\u001b[K     |█████████████████████████████▉  | 450kB 8.7MB/s eta 0:00:01\r\u001b[K     |██████████████████████████████▌ | 460kB 8.7MB/s eta 0:00:01\r\u001b[K     |███████████████████████████████▏| 471kB 8.7MB/s eta 0:00:01\r\u001b[K     |████████████████████████████████| 481kB 8.7MB/s eta 0:00:01\r\u001b[K     |████████████████████████████████| 491kB 8.7MB/s \n",
            "\u001b[?25hBuilding wheels for collected packages: opencc-python-reimplemented\n",
            "  Building wheel for opencc-python-reimplemented (setup.py) ... \u001b[?25l\u001b[?25hdone\n",
            "  Created wheel for opencc-python-reimplemented: filename=opencc_python_reimplemented-0.1.5-py2.py3-none-any.whl size=485664 sha256=056cfd6a3a313a2e10cda5535857eb4a958bb8c41e77f6fa78ba29d582ae87a3\n",
            "  Stored in directory: /root/.cache/pip/wheels/36/a0/10/888b9ac7f10154caaa6a73270b1f085e0a7b241baa672bbe49\n",
            "Successfully built opencc-python-reimplemented\n",
            "Installing collected packages: opencc-python-reimplemented\n",
            "Successfully installed opencc-python-reimplemented-0.1.5\n"
          ],
          "name": "stdout"
        }
      ]
    },
    {
      "cell_type": "markdown",
      "metadata": {
        "id": "dVSh2Rtt3K1w",
        "colab_type": "text"
      },
      "source": [
        "## 結巴中文斷詞\n",
        "\n",
        "(https://github.com/fxsjy/jieba)\n",
        "\n",
        "**將文章進行斷詞切字，並存至seg.txt，約需10分鐘**"
      ]
    },
    {
      "cell_type": "code",
      "metadata": {
        "id": "9h1aBOM2tiBG",
        "colab_type": "code",
        "colab": {
          "base_uri": "https://localhost:8080/",
          "height": 101
        },
        "outputId": "33cfb8d4-4a71-4b39-95ab-671da27a5b5e"
      },
      "source": [
        "import jieba\n",
        "from opencc import OpenCC\n",
        "\n",
        "\n",
        "# Initial\n",
        "cc = OpenCC('s2t')\n",
        "train_data = open('wiki_text.txt', 'r', encoding='utf-8').read()\n",
        "train_data = cc.convert(train_data)\n",
        "train_data = jieba.lcut(train_data)\n",
        "train_data = [word for word in train_data if word != '']\n",
        "train_data = ' '.join(train_data)\n",
        "open('seg.txt', 'w', encoding='utf-8').write(train_data)\n"
      ],
      "execution_count": 7,
      "outputs": [
        {
          "output_type": "stream",
          "text": [
            "Building prefix dict from the default dictionary ...\n",
            "Dumping model to file cache /tmp/jieba.cache\n",
            "Loading model cost 0.743 seconds.\n",
            "Prefix dict has been built successfully.\n"
          ],
          "name": "stderr"
        },
        {
          "output_type": "execute_result",
          "data": {
            "text/plain": [
              "108406476"
            ]
          },
          "metadata": {
            "tags": []
          },
          "execution_count": 7
        }
      ]
    },
    {
      "cell_type": "markdown",
      "metadata": {
        "id": "0Cm4TDLT3yxm",
        "colab_type": "text"
      },
      "source": [
        "**將seg.txt進行word2vec訓練，約需10分鐘，並存檔至word2vec.model**"
      ]
    },
    {
      "cell_type": "code",
      "metadata": {
        "id": "lOugNEL7tzKA",
        "colab_type": "code",
        "colab": {
          "base_uri": "https://localhost:8080/",
          "height": 70
        },
        "outputId": "105fcefa-a040-49ca-c4bb-1f134a39a434"
      },
      "source": [
        "from gensim.models import word2vec\n",
        "\n",
        "\n",
        "# Settings\n",
        "seed = 666\n",
        "sg = 0\n",
        "window_size = 10\n",
        "vector_size = 100\n",
        "min_count = 1\n",
        "workers = 8\n",
        "epochs = 5\n",
        "batch_words = 10000\n",
        "\n",
        "train_data = word2vec.LineSentence('seg.txt')\n",
        "model = word2vec.Word2Vec(\n",
        "    train_data,\n",
        "    min_count=min_count,\n",
        "    size=vector_size,\n",
        "    workers=workers,\n",
        "    iter=epochs,\n",
        "    window=window_size,\n",
        "    sg=sg,\n",
        "    seed=seed,\n",
        "    batch_words=batch_words\n",
        ")\n",
        "\n",
        "model.save('word2vec.model')"
      ],
      "execution_count": 8,
      "outputs": [
        {
          "output_type": "stream",
          "text": [
            "/usr/local/lib/python3.6/dist-packages/smart_open/smart_open_lib.py:253: UserWarning: This function is deprecated, use smart_open.open instead. See the migration notes for details: https://github.com/RaRe-Technologies/smart_open/blob/master/README.rst#migrating-to-the-new-open-function\n",
            "  'See the migration notes for details: %s' % _MIGRATION_NOTES_URL\n"
          ],
          "name": "stderr"
        }
      ]
    },
    {
      "cell_type": "markdown",
      "metadata": {
        "id": "HRLr9NVm4YKx",
        "colab_type": "text"
      },
      "source": [
        "**利用word2vec.model進行字詞相關性預測(可更換\"微生物\"字詞)**"
      ]
    },
    {
      "cell_type": "code",
      "metadata": {
        "id": "UmlMnOkEt4qh",
        "colab_type": "code",
        "colab": {
          "base_uri": "https://localhost:8080/",
          "height": 289
        },
        "outputId": "8588659b-0a03-4b2c-a92e-e59926555ccf"
      },
      "source": [
        "from gensim.models import word2vec\n",
        "\n",
        "string = '微生物'\n",
        "model = word2vec.Word2Vec.load('word2vec.model')\n",
        "print(string)\n",
        "\n",
        "for item in model.wv.most_similar(string):\n",
        "    print(item)"
      ],
      "execution_count": 9,
      "outputs": [
        {
          "output_type": "stream",
          "text": [
            "/usr/local/lib/python3.6/dist-packages/smart_open/smart_open_lib.py:253: UserWarning: This function is deprecated, use smart_open.open instead. See the migration notes for details: https://github.com/RaRe-Technologies/smart_open/blob/master/README.rst#migrating-to-the-new-open-function\n",
            "  'See the migration notes for details: %s' % _MIGRATION_NOTES_URL\n"
          ],
          "name": "stderr"
        },
        {
          "output_type": "stream",
          "text": [
            "微生物\n",
            "('細菌', 0.8824469447135925)\n",
            "('致病', 0.8656439781188965)\n",
            "('菌', 0.863878607749939)\n",
            "('真菌', 0.8602553606033325)\n",
            "('病理', 0.8525905609130859)\n",
            "('代謝', 0.84392249584198)\n",
            "('放線菌', 0.8429034948348999)\n",
            "('激素', 0.8403509855270386)\n",
            "('免疫', 0.8389871120452881)\n",
            "('藻類', 0.8362687826156616)\n"
          ],
          "name": "stdout"
        },
        {
          "output_type": "stream",
          "text": [
            "/usr/local/lib/python3.6/dist-packages/gensim/matutils.py:737: FutureWarning: Conversion of the second argument of issubdtype from `int` to `np.signedinteger` is deprecated. In future, it will be treated as `np.int64 == np.dtype(int).type`.\n",
            "  if np.issubdtype(vec.dtype, np.int):\n"
          ],
          "name": "stderr"
        }
      ]
    }
  ]
}