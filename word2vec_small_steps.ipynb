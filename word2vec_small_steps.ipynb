{
  "nbformat": 4,
  "nbformat_minor": 0,
  "metadata": {
    "colab": {
      "name": "word2vec_small_steps.ipynb",
      "provenance": [],
      "toc_visible": true
    },
    "kernelspec": {
      "name": "python3",
      "display_name": "Python 3"
    },
    "accelerator": "GPU"
  },
  "cells": [
    {
      "cell_type": "markdown",
      "metadata": {
        "id": "nRR-Ti-GBrhB",
        "colab_type": "text"
      },
      "source": [
        "# word2vec範例演練\n",
        "\n",
        "自製一my_seg small.txt (已經斷好字詞的文字檔，一行代表一篇文章)\n",
        "\n",
        "進行相似詞查詢"
      ]
    },
    {
      "cell_type": "code",
      "metadata": {
        "id": "U7y_zjqk72U3",
        "colab_type": "code",
        "outputId": "1287f2b6-ca5a-4f9d-b0a9-40836f29ff80",
        "colab": {
          "base_uri": "https://localhost:8080/",
          "height": 202
        }
      },
      "source": [
        "!wget https://raw.githubusercontent.com/joshhu/must_examples/master/my_seg_small.txt"
      ],
      "execution_count": 0,
      "outputs": [
        {
          "output_type": "stream",
          "text": [
            "--2020-04-17 12:01:50--  https://raw.githubusercontent.com/joshhu/must_examples/master/my_seg_small.txt\n",
            "Resolving raw.githubusercontent.com (raw.githubusercontent.com)... 151.101.0.133, 151.101.64.133, 151.101.128.133, ...\n",
            "Connecting to raw.githubusercontent.com (raw.githubusercontent.com)|151.101.0.133|:443... connected.\n",
            "HTTP request sent, awaiting response... 200 OK\n",
            "Length: 398 [text/plain]\n",
            "Saving to: ‘my_seg_small.txt.1’\n",
            "\n",
            "\rmy_seg_small.txt.1    0%[                    ]       0  --.-KB/s               \rmy_seg_small.txt.1  100%[===================>]     398  --.-KB/s    in 0s      \n",
            "\n",
            "2020-04-17 12:01:50 (18.7 MB/s) - ‘my_seg_small.txt.1’ saved [398/398]\n",
            "\n"
          ],
          "name": "stdout"
        }
      ]
    },
    {
      "cell_type": "code",
      "metadata": {
        "id": "oAH_SJnP8KjO",
        "colab_type": "code",
        "outputId": "4939017e-a43a-47f7-81cf-621e606520c1",
        "colab": {
          "base_uri": "https://localhost:8080/",
          "height": 87
        }
      },
      "source": [
        "import sys\n",
        "from gensim.models import word2vec\n",
        "from gensim import models\n",
        "\n",
        "sentences = word2vec.LineSentence(\"my_seg_small.txt\")\n",
        "model = word2vec.Word2Vec(sentences, size=5, min_count=1, negative=10)\n",
        "\n",
        "model.save('word2vec.model')\n",
        "model.wv.save_word2vec_format('word2vec.model', binary = False)\n",
        "print('done')"
      ],
      "execution_count": 0,
      "outputs": [
        {
          "output_type": "stream",
          "text": [
            "done\n"
          ],
          "name": "stdout"
        },
        {
          "output_type": "stream",
          "text": [
            "/usr/local/lib/python3.6/dist-packages/smart_open/smart_open_lib.py:253: UserWarning: This function is deprecated, use smart_open.open instead. See the migration notes for details: https://github.com/RaRe-Technologies/smart_open/blob/master/README.rst#migrating-to-the-new-open-function\n",
            "  'See the migration notes for details: %s' % _MIGRATION_NOTES_URL\n"
          ],
          "name": "stderr"
        }
      ]
    },
    {
      "cell_type": "code",
      "metadata": {
        "id": "3juRvwmO8SCb",
        "colab_type": "code",
        "outputId": "eacfd9af-0c70-4636-e8ab-a1f708bb8727",
        "colab": {
          "base_uri": "https://localhost:8080/",
          "height": 222
        }
      },
      "source": [
        "input_str = \"北京\"\n",
        "res = model.wv.most_similar(input_str)\n",
        "for item in res: \n",
        "      print(item[0] + ':' + str(item[1]))"
      ],
      "execution_count": 0,
      "outputs": [
        {
          "output_type": "stream",
          "text": [
            "吃下午茶:0.5855306386947632\n",
            "帝都:0.5332691073417664\n",
            "下午茶:0.5272948145866394\n",
            "飯:0.455926775932312\n",
            "吃:0.23124049603939056\n",
            "上海:-0.1404920220375061\n",
            "烤鴨:-0.28743454813957214\n",
            "台北:-0.3372420370578766\n",
            "玩:-0.6233254075050354\n"
          ],
          "name": "stdout"
        },
        {
          "output_type": "stream",
          "text": [
            "/usr/local/lib/python3.6/dist-packages/gensim/matutils.py:737: FutureWarning: Conversion of the second argument of issubdtype from `int` to `np.signedinteger` is deprecated. In future, it will be treated as `np.int64 == np.dtype(int).type`.\n",
            "  if np.issubdtype(vec.dtype, np.int):\n"
          ],
          "name": "stderr"
        }
      ]
    }
  ]
}